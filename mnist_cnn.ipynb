{
  "nbformat": 4,
  "nbformat_minor": 0,
  "metadata": {
    "colab": {
      "name": "mnist_cnn.ipynb",
      "provenance": []
    },
    "kernelspec": {
      "name": "python3",
      "display_name": "Python 3"
    },
    "language_info": {
      "name": "python"
    }
  },
  "cells": [
    {
      "cell_type": "code",
      "metadata": {
        "id": "813NuQgQtqlP"
      },
      "source": [
        "import numpy as np \n",
        "import pandas as pd\n",
        "import matplotlib.pyplot as plt\n",
        "import torch\n",
        "import torch.nn.functional as F\n",
        "from torch import nn\n",
        "from torchvision import datasets, transforms, models\n",
        "import warnings\n",
        "warnings.filterwarnings('ignore')"
      ],
      "execution_count": 14,
      "outputs": []
    },
    {
      "cell_type": "code",
      "metadata": {
        "id": "L0U7C4nNuBwg"
      },
      "source": [
        "batch_size = 20\n",
        "transformation_train = transforms.Compose([transforms.ToTensor(),\n",
        "                             transforms.Normalize((0.5,),\n",
        "                                                  (0.5,))])\n",
        "      \n",
        "\n",
        " \n",
        "\n",
        "transformation_test = transforms.Compose([transforms.ToTensor(),\n",
        "                             transforms.Normalize((0.5,),\n",
        "                                                  (0.5,))])\n",
        "\n",
        " \n",
        "# importing dataset\n",
        "trainset = datasets.FashionMNIST('FMNIST',\n",
        "                                download = True,\n",
        "                                train = True,\n",
        "                                transform = transformation_train)\n",
        "\n",
        "\n",
        "\n",
        "testset = datasets.FashionMNIST('FMNST',\n",
        "                               download = True,\n",
        "                               train = False,\n",
        "                               transform = transformation_test)\n",
        "\n",
        "trainloader = torch.utils.data.DataLoader(trainset,\n",
        "                                          batch_size = 20,\n",
        "                                          shuffle = True)\n",
        "testloader =  torch.utils.data.DataLoader(testset,\n",
        "                                         batch_size = 20,\n",
        "                                         shuffle = True)\n"
      ],
      "execution_count": 40,
      "outputs": []
    },
    {
      "cell_type": "code",
      "metadata": {
        "colab": {
          "base_uri": "https://localhost:8080/"
        },
        "id": "VGRnJOM_ulXq",
        "outputId": "e286afaf-1763-445c-d3be-ea0d29ee7e74"
      },
      "source": [
        "dataiter = iter(trainloader)\n",
        "images, labels = dataiter.next()\n",
        "print(type(images))\n",
        "print(images.shape)\n",
        "print(labels.shape)"
      ],
      "execution_count": 41,
      "outputs": [
        {
          "output_type": "stream",
          "text": [
            "<class 'torch.Tensor'>\n",
            "torch.Size([20, 1, 28, 28])\n",
            "torch.Size([20])\n"
          ],
          "name": "stdout"
        }
      ]
    },
    {
      "cell_type": "code",
      "metadata": {
        "colab": {
          "base_uri": "https://localhost:8080/",
          "height": 282
        },
        "id": "HfXmZ37eu7UU",
        "outputId": "688a03eb-54b3-4042-f625-d6bec84d7f0e"
      },
      "source": [
        "plt.imshow(images[1].numpy().squeeze(), cmap='Greys_r')"
      ],
      "execution_count": 42,
      "outputs": [
        {
          "output_type": "execute_result",
          "data": {
            "text/plain": [
              "<matplotlib.image.AxesImage at 0x7f7569addf50>"
            ]
          },
          "metadata": {
            "tags": []
          },
          "execution_count": 42
        },
        {
          "output_type": "display_data",
          "data": {
            "image/png": "[encoded data removed]",
            "text/plain": [
              "<Figure size 432x288 with 1 Axes>"
            ]
          },
          "metadata": {
            "tags": [],
            "needs_background": "light"
          }
        }
      ]
    },
    {
      "cell_type": "code",
      "metadata": {
        "id": "twAhsmUYvj78"
      },
      "source": [
        "#Defining The Networks Architecture\n",
        "\n",
        "\n",
        "class Network(nn.Module):\n",
        "    def __init__(self):\n",
        "        super(Network,self).__init__()\n",
        "        self.conv1 = nn.Conv2d(in_channels =1,out_channels =6,kernel_size =5)\n",
        "        self.conv2 = nn.Conv2d(in_channels =6,out_channels =12,kernel_size =5)\n",
        "        \n",
        "        self.fc1 = nn.Linear(in_features = 12*4*4, out_features = 120)\n",
        "        self.fc2 = nn.Linear(in_features = 120, out_features = 60)\n",
        "        self.out = nn.Linear(in_features= 60, out_features=10)\n",
        "        \n",
        "    def forward(self, t):\n",
        "        t = self.conv1(t)\n",
        "        t = F.relu(t)\n",
        "        t = F.max_pool2d(t, kernel_size=2, stride=2)\n",
        "        t = self.conv2(t)\n",
        "        t = F.relu(t)\n",
        "        t = F.max_pool2d(t, kernel_size=2, stride=2)\n",
        "        t = t.reshape(-1, 12 * 4 * 4)\n",
        "        t = self.fc1(t)\n",
        "        t = F.relu(t)\n",
        "        t = self.fc2(t)\n",
        "        t = F.relu(t)\n",
        "        t = self.out(t)\n",
        "\n",
        "        return F.log_softmax(t)"
      ],
      "execution_count": 59,
      "outputs": []
    },
    {
      "cell_type": "code",
      "metadata": {
        "colab": {
          "base_uri": "https://localhost:8080/"
        },
        "id": "6OIesK_HvxVM",
        "outputId": "91724d2c-b64a-4df8-87d2-b6e7d4ce68dc"
      },
      "source": [
        "model = Network()\n",
        "model"
      ],
      "execution_count": 60,
      "outputs": [
        {
          "output_type": "execute_result",
          "data": {
            "text/plain": [
              "Network(\n",
              "  (conv1): Conv2d(1, 6, kernel_size=(5, 5), stride=(1, 1))\n",
              "  (conv2): Conv2d(6, 12, kernel_size=(5, 5), stride=(1, 1))\n",
              "  (fc1): Linear(in_features=192, out_features=120, bias=True)\n",
              "  (fc2): Linear(in_features=120, out_features=60, bias=True)\n",
              "  (out): Linear(in_features=60, out_features=10, bias=True)\n",
              ")"
            ]
          },
          "metadata": {
            "tags": []
          },
          "execution_count": 60
        }
      ]
    },
    {
      "cell_type": "code",
      "metadata": {
        "id": "kJVgKXOqvzSE"
      },
      "source": [
        "criterion = nn.NLLLoss()\n",
        "optimizer = torch.optim.Adam(model.parameters(), lr=0.001)"
      ],
      "execution_count": 61,
      "outputs": []
    },
    {
      "cell_type": "code",
      "metadata": {
        "colab": {
          "base_uri": "https://localhost:8080/"
        },
        "id": "xMUzAZafv11c",
        "outputId": "69bb6753-1f85-49ad-fd66-d403e9ddfa34"
      },
      "source": [
        "numOfEpochs = 10\n",
        "train_count = len(trainloader) * batch_size\n",
        "test_count  = len(testloader)  * batch_size\n",
        "train_losses = []\n",
        "test_losses  = []\n",
        "train_acurracies = []\n",
        "test_acurracies  = []\n",
        "\n",
        "# training with the number of epochs.\n",
        "for epoch in range(numOfEpochs):\n",
        "    train_loss = 0.0\n",
        "    test_loss = 0.0\n",
        "    train_acc = 0.0\n",
        "    test_acc = 0.0\n",
        "  \n",
        "    # training the model with the train dataset.\n",
        "    for train_images, train_labels in trainloader:\n",
        "    \n",
        "        \n",
        "    \n",
        "        # calculating loss for training\n",
        "        # dataset for the current batch.\n",
        "        train_labels_head = model(train_images)\n",
        "        loss = criterion(train_labels_head, train_labels)\n",
        "    \n",
        "        # updating weights.\n",
        "        optimizer.zero_grad()\n",
        "        loss.backward()\n",
        "        optimizer.step()  \n",
        "    \n",
        "        # calculating acurracy for the current\n",
        "        # batch for the training dataset.\n",
        "        predictions = torch.max( train_labels_head , 1)[1] \n",
        "        acurracy = torch.sum( predictions == train_labels )\n",
        "    \n",
        "        # summing training acurracy and \n",
        "        # loss wit the remaining batches.\n",
        "        train_acc += acurracy \n",
        "        train_loss += loss.item()\n",
        "    \n",
        "    print(\"EPOCH --> \" + str(epoch + 1))\n",
        "    print(\"----------------------------------------------\")\n",
        "  \n",
        "    # testing the current model within the current epoch.\n",
        "    for test_images, test_labels in testloader:\n",
        "       \n",
        "        \n",
        "        # calculating loss for test \n",
        "        # dataset for the current batch.\n",
        "        test_labels_head = model(test_images)\n",
        "        loss = criterion(test_labels_head, test_labels)\n",
        "    \n",
        "        # calculating acurracy for the cur-\n",
        "        # rent batch for the test dataset.\n",
        "        predictions = torch.max( test_labels_head , 1)[1] \n",
        "        acurracy = torch.sum( predictions == test_labels )\n",
        "    \n",
        "        # summing test acurracy and \n",
        "        # loss wit the remaining batches.\n",
        "        test_acc += acurracy \n",
        "        test_loss += loss.item()\n",
        " \n",
        "    # printing out the training dataset \n",
        "    # results for the current batch.\n",
        "    train_acc = float(train_acc.float()) / train_count\n",
        "    train_acurracies.append( train_acc )\n",
        "    print(\"Train Acurracy: \" + str( float(train_acc) ))\n",
        "    \n",
        "    train_loss = train_loss / train_count\n",
        "    train_losses.append( train_loss )\n",
        "    print(\"Train Loss: \" + str(train_loss) + \"\\n\")\n",
        "  \n",
        "    # printing out the test dataset \n",
        "    # results for the current batch.\n",
        "    test_acc = float(test_acc.float()) / test_count\n",
        "    test_acurracies.append( test_acc )\n",
        "    print(\"Test Acurracy: \" + str( float(test_acc) ))    \n",
        "    \n",
        "    test_loss = test_loss / test_count\n",
        "    test_losses.append( test_loss )\n",
        "    print(\"Test Loss: \" + str(test_loss))\n",
        "    print(\"----------------------------------------------\\n\")"
      ],
      "execution_count": 62,
      "outputs": [
        {
          "output_type": "stream",
          "text": [
            "EPOCH --> 1\n",
            "----------------------------------------------\n",
            "Train Acurracy: 0.7948\n",
            "Train Loss: 0.02753259766579916\n",
            "\n",
            "Test Acurracy: 0.8472\n",
            "Test Loss: 0.021248401127010583\n",
            "----------------------------------------------\n",
            "\n",
            "EPOCH --> 2\n",
            "----------------------------------------------\n",
            "Train Acurracy: 0.8675166666666667\n",
            "Train Loss: 0.018347233145932357\n",
            "\n",
            "Test Acurracy: 0.8636\n",
            "Test Loss: 0.0188042483150959\n",
            "----------------------------------------------\n",
            "\n",
            "EPOCH --> 3\n",
            "----------------------------------------------\n",
            "Train Acurracy: 0.88145\n",
            "Train Loss: 0.016282378561329098\n",
            "\n",
            "Test Acurracy: 0.8788\n",
            "Test Loss: 0.01673569228686392\n",
            "----------------------------------------------\n",
            "\n",
            "EPOCH --> 4\n",
            "----------------------------------------------\n",
            "Train Acurracy: 0.89055\n",
            "Train Loss: 0.01489904010326912\n",
            "\n",
            "Test Acurracy: 0.8793\n",
            "Test Loss: 0.016441271826811134\n",
            "----------------------------------------------\n",
            "\n",
            "EPOCH --> 5\n",
            "----------------------------------------------\n",
            "Train Acurracy: 0.8967\n",
            "Train Loss: 0.01388288079953442\n",
            "\n",
            "Test Acurracy: 0.8814\n",
            "Test Loss: 0.016012902460154146\n",
            "----------------------------------------------\n",
            "\n",
            "EPOCH --> 6\n",
            "----------------------------------------------\n",
            "Train Acurracy: 0.9018666666666667\n",
            "Train Loss: 0.013101370036439039\n",
            "\n",
            "Test Acurracy: 0.8904\n",
            "Test Loss: 0.0154583048729226\n",
            "----------------------------------------------\n",
            "\n",
            "EPOCH --> 7\n",
            "----------------------------------------------\n",
            "Train Acurracy: 0.9068333333333334\n",
            "Train Loss: 0.012487090729371023\n",
            "\n",
            "Test Acurracy: 0.8934\n",
            "Test Loss: 0.015317232668213547\n",
            "----------------------------------------------\n",
            "\n",
            "EPOCH --> 8\n",
            "----------------------------------------------\n",
            "Train Acurracy: 0.9113166666666667\n",
            "Train Loss: 0.011864573077694512\n",
            "\n",
            "Test Acurracy: 0.8889\n",
            "Test Loss: 0.015748367986828087\n",
            "----------------------------------------------\n",
            "\n",
            "EPOCH --> 9\n",
            "----------------------------------------------\n",
            "Train Acurracy: 0.9149666666666667\n",
            "Train Loss: 0.011384621817750545\n",
            "\n",
            "Test Acurracy: 0.8955\n",
            "Test Loss: 0.014875320079177618\n",
            "----------------------------------------------\n",
            "\n",
            "EPOCH --> 10\n",
            "----------------------------------------------\n",
            "Train Acurracy: 0.9171333333333334\n",
            "Train Loss: 0.010998546035471372\n",
            "\n",
            "Test Acurracy: 0.8917\n",
            "Test Loss: 0.014911513132741675\n",
            "----------------------------------------------\n",
            "\n"
          ],
          "name": "stdout"
        }
      ]
    },
    {
      "cell_type": "code",
      "metadata": {
        "colab": {
          "base_uri": "https://localhost:8080/",
          "height": 281
        },
        "id": "uGkb3w5Xh6lT",
        "outputId": "396f565c-44d0-47b4-c5cc-fd3a54834e89"
      },
      "source": [
        "plt.title(\"LOSSES\")\n",
        "plt.plot(train_losses, label = \"Train Loss\", color= \"green\")\n",
        "plt.plot(test_losses,  label = \"Test  Loss\", color= \"red\")\n",
        "plt.legend()\n",
        "plt.grid()"
      ],
      "execution_count": 63,
      "outputs": [
        {
          "output_type": "display_data",
          "data": {
            "image/png": "[encoded data removed]",
            "text/plain": [
              "<Figure size 432x288 with 1 Axes>"
            ]
          },
          "metadata": {
            "tags": [],
            "needs_background": "light"
          }
        }
      ]
    },
    {
      "cell_type": "code",
      "metadata": {
        "colab": {
          "base_uri": "https://localhost:8080/",
          "height": 281
        },
        "id": "YmMPnYNQ1riT",
        "outputId": "c14aaacd-b23b-4ce9-b663-0374438e44b6"
      },
      "source": [
        "plt.title(\"Acurracies\")\n",
        "plt.plot(train_acurracies, label = \"Train Acurracies\")\n",
        "plt.plot(test_acurracies,  label = \"Test  Acurracies\")\n",
        "plt.legend()\n",
        "plt.grid()"
      ],
      "execution_count": 64,
      "outputs": [
        {
          "output_type": "display_data",
          "data": {
            "image/png": "[encoded data removed]",
            "text/plain": [
              "<Figure size 432x288 with 1 Axes>"
            ]
          },
          "metadata": {
            "tags": [],
            "needs_background": "light"
          }
        }
      ]
    }
  ]
}